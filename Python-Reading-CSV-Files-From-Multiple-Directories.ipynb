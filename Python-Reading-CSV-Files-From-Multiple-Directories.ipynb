{
 "cells": [
  {
   "cell_type": "markdown",
   "metadata": {},
   "source": [
    "# Reading CSV Files From Multiple Directories"
   ]
  },
  {
   "cell_type": "code",
   "execution_count": 9,
   "metadata": {
    "colab": {},
    "colab_type": "code",
    "id": "64TGWUaJHavw"
   },
   "outputs": [],
   "source": [
    "# import the libraries\n",
    "import pandas as pd\n",
    "import glob"
   ]
  },
  {
   "cell_type": "code",
   "execution_count": 10,
   "metadata": {
    "colab": {},
    "colab_type": "code",
    "id": "Iy6P8RsKHav1",
    "outputId": "9c1f9606-8c8f-4143-abc2-2a9bf6b76d15"
   },
   "outputs": [
    {
     "name": "stdout",
     "output_type": "stream",
     "text": [
      "datasets/multi-directory\\1985\n",
      "datasets/multi-directory\\1987\n",
      "datasets/multi-directory\\1997\n",
      "datasets/multi-directory\\1998\n",
      "datasets/multi-directory\\1999\n",
      "datasets/multi-directory\\2002\n",
      "datasets/multi-directory\\2004\n",
      "datasets/multi-directory\\2007\n",
      "datasets/multi-directory\\2009\n"
     ]
    }
   ],
   "source": [
    "# list all the files in the folder\n",
    "for directory in glob.glob('datasets/multi-directory/*'):\n",
    "    print(directory)"
   ]
  },
  {
   "cell_type": "markdown",
   "metadata": {
    "colab_type": "text",
    "id": "AsmCac8wHav6"
   },
   "source": [
    "---\n",
    "\n",
    "Now, each of the folders **`1985`**, **`1987`**, **`1997`**, **`1998`**, **`1999`**, **`2002`**, **`2004`**, **`2007`** and **`2009`** contains CSV. We will iterate through each of them and concatenate the files.\n",
    "\n",
    "\n",
    "---"
   ]
  },
  {
   "cell_type": "code",
   "execution_count": 11,
   "metadata": {
    "colab": {},
    "colab_type": "code",
    "id": "VKboYOLmHav7",
    "outputId": "64257e97-ba1b-4cf2-e0f2-7bf093e46537"
   },
   "outputs": [
    {
     "name": "stdout",
     "output_type": "stream",
     "text": [
      "datasets/multi-directory\\1985\\1985.csv\n",
      "datasets/multi-directory\\1987\\1987.csv\n",
      "datasets/multi-directory\\1997\\1997.csv\n",
      "datasets/multi-directory\\1998\\1998.csv\n",
      "datasets/multi-directory\\1999\\1999.csv\n",
      "datasets/multi-directory\\2002\\2002.csv\n",
      "datasets/multi-directory\\2004\\2004.csv\n",
      "datasets/multi-directory\\2007\\2007.csv\n",
      "datasets/multi-directory\\2009\\2009.csv\n"
     ]
    }
   ],
   "source": [
    "# iterate through each of the files\n",
    "for directory in glob.glob('datasets/multi-directory/*'):\n",
    "    \n",
    "    for files in glob.glob(directory + '/*'):\n",
    "        print(files)"
   ]
  },
  {
   "cell_type": "markdown",
   "metadata": {
    "colab_type": "text",
    "id": "fjTzozjKHawE"
   },
   "source": [
    "---\n",
    "\n",
    "***Concatenate the files.***\n",
    "\n",
    "---"
   ]
  },
  {
   "cell_type": "code",
   "execution_count": 12,
   "metadata": {
    "colab": {},
    "colab_type": "code",
    "id": "s1TNErvBHawG"
   },
   "outputs": [],
   "source": [
    "# list to store data frames\n",
    "data_frame_list = []\n",
    "\n",
    "# iterate through each folder\n",
    "for directory in glob.glob('datasets/multi-directory/*'):\n",
    "    \n",
    "    # iterate through each file\n",
    "    for files in glob.glob(directory + '/*'):\n",
    "        # read and append the data frame\n",
    "        data_frame_list.append(pd.read_csv(files))"
   ]
  },
  {
   "cell_type": "code",
   "execution_count": 13,
   "metadata": {
    "colab": {},
    "colab_type": "code",
    "id": "jKIXKyuWHawL"
   },
   "outputs": [],
   "source": [
    "# concatenate the dataframes\n",
    "final_data = pd.concat(data_frame_list)"
   ]
  },
  {
   "cell_type": "code",
   "execution_count": 14,
   "metadata": {
    "colab": {},
    "colab_type": "code",
    "id": "D7S0YrzxHawQ",
    "outputId": "08afb896-d10c-4f3c-e09a-b714e70962c6"
   },
   "outputs": [
    {
     "data": {
      "text/html": [
       "<div>\n",
       "<style scoped>\n",
       "    .dataframe tbody tr th:only-of-type {\n",
       "        vertical-align: middle;\n",
       "    }\n",
       "\n",
       "    .dataframe tbody tr th {\n",
       "        vertical-align: top;\n",
       "    }\n",
       "\n",
       "    .dataframe thead th {\n",
       "        text-align: right;\n",
       "    }\n",
       "</style>\n",
       "<table border=\"1\" class=\"dataframe\">\n",
       "  <thead>\n",
       "    <tr style=\"text-align: right;\">\n",
       "      <th></th>\n",
       "      <th>Unnamed: 0</th>\n",
       "      <th>Item_Identifier</th>\n",
       "      <th>Item_Weight</th>\n",
       "      <th>Item_Fat_Content</th>\n",
       "      <th>Item_Visibility</th>\n",
       "      <th>Item_Type</th>\n",
       "      <th>Item_MRP</th>\n",
       "      <th>Outlet_Identifier</th>\n",
       "      <th>Outlet_Establishment_Year</th>\n",
       "      <th>Outlet_Size</th>\n",
       "      <th>Outlet_Location_Type</th>\n",
       "      <th>Outlet_Type</th>\n",
       "      <th>Item_Outlet_Sales</th>\n",
       "    </tr>\n",
       "  </thead>\n",
       "  <tbody>\n",
       "    <tr>\n",
       "      <th>0</th>\n",
       "      <td>7</td>\n",
       "      <td>FDP10</td>\n",
       "      <td>NaN</td>\n",
       "      <td>Low Fat</td>\n",
       "      <td>0.127470</td>\n",
       "      <td>Snack Foods</td>\n",
       "      <td>107.7622</td>\n",
       "      <td>OUT027</td>\n",
       "      <td>1985</td>\n",
       "      <td>Medium</td>\n",
       "      <td>Tier 3</td>\n",
       "      <td>Supermarket Type3</td>\n",
       "      <td>4022.7636</td>\n",
       "    </tr>\n",
       "    <tr>\n",
       "      <th>1</th>\n",
       "      <td>18</td>\n",
       "      <td>DRI11</td>\n",
       "      <td>NaN</td>\n",
       "      <td>Low Fat</td>\n",
       "      <td>0.034238</td>\n",
       "      <td>Hard Drinks</td>\n",
       "      <td>113.2834</td>\n",
       "      <td>OUT027</td>\n",
       "      <td>1985</td>\n",
       "      <td>Medium</td>\n",
       "      <td>Tier 3</td>\n",
       "      <td>Supermarket Type3</td>\n",
       "      <td>2303.6680</td>\n",
       "    </tr>\n",
       "    <tr>\n",
       "      <th>2</th>\n",
       "      <td>21</td>\n",
       "      <td>FDW12</td>\n",
       "      <td>NaN</td>\n",
       "      <td>Regular</td>\n",
       "      <td>0.035400</td>\n",
       "      <td>Baking Goods</td>\n",
       "      <td>144.5444</td>\n",
       "      <td>OUT027</td>\n",
       "      <td>1985</td>\n",
       "      <td>Medium</td>\n",
       "      <td>Tier 3</td>\n",
       "      <td>Supermarket Type3</td>\n",
       "      <td>4064.0432</td>\n",
       "    </tr>\n",
       "    <tr>\n",
       "      <th>3</th>\n",
       "      <td>23</td>\n",
       "      <td>FDC37</td>\n",
       "      <td>NaN</td>\n",
       "      <td>Low Fat</td>\n",
       "      <td>0.057557</td>\n",
       "      <td>Baking Goods</td>\n",
       "      <td>107.6938</td>\n",
       "      <td>OUT019</td>\n",
       "      <td>1985</td>\n",
       "      <td>Small</td>\n",
       "      <td>Tier 1</td>\n",
       "      <td>Grocery Store</td>\n",
       "      <td>214.3876</td>\n",
       "    </tr>\n",
       "    <tr>\n",
       "      <th>4</th>\n",
       "      <td>29</td>\n",
       "      <td>FDC14</td>\n",
       "      <td>NaN</td>\n",
       "      <td>Regular</td>\n",
       "      <td>0.072222</td>\n",
       "      <td>Canned</td>\n",
       "      <td>43.6454</td>\n",
       "      <td>OUT019</td>\n",
       "      <td>1985</td>\n",
       "      <td>Small</td>\n",
       "      <td>Tier 1</td>\n",
       "      <td>Grocery Store</td>\n",
       "      <td>125.8362</td>\n",
       "    </tr>\n",
       "  </tbody>\n",
       "</table>\n",
       "</div>"
      ],
      "text/plain": [
       "   Unnamed: 0 Item_Identifier  Item_Weight Item_Fat_Content  Item_Visibility  \\\n",
       "0           7           FDP10          NaN          Low Fat         0.127470   \n",
       "1          18           DRI11          NaN          Low Fat         0.034238   \n",
       "2          21           FDW12          NaN          Regular         0.035400   \n",
       "3          23           FDC37          NaN          Low Fat         0.057557   \n",
       "4          29           FDC14          NaN          Regular         0.072222   \n",
       "\n",
       "      Item_Type  Item_MRP Outlet_Identifier  Outlet_Establishment_Year  \\\n",
       "0   Snack Foods  107.7622            OUT027                       1985   \n",
       "1   Hard Drinks  113.2834            OUT027                       1985   \n",
       "2  Baking Goods  144.5444            OUT027                       1985   \n",
       "3  Baking Goods  107.6938            OUT019                       1985   \n",
       "4        Canned   43.6454            OUT019                       1985   \n",
       "\n",
       "  Outlet_Size Outlet_Location_Type        Outlet_Type  Item_Outlet_Sales  \n",
       "0      Medium               Tier 3  Supermarket Type3          4022.7636  \n",
       "1      Medium               Tier 3  Supermarket Type3          2303.6680  \n",
       "2      Medium               Tier 3  Supermarket Type3          4064.0432  \n",
       "3       Small               Tier 1      Grocery Store           214.3876  \n",
       "4       Small               Tier 1      Grocery Store           125.8362  "
      ]
     },
     "execution_count": 14,
     "metadata": {},
     "output_type": "execute_result"
    }
   ],
   "source": [
    "final_data.head()"
   ]
  },
  {
   "cell_type": "markdown",
   "metadata": {
    "colab_type": "text",
    "id": "xGzWsuGJHawV"
   },
   "source": [
    "---\n",
    "\n",
    "*** Store the CSV ***\n",
    "\n",
    "---"
   ]
  },
  {
   "cell_type": "code",
   "execution_count": 15,
   "metadata": {
    "colab": {},
    "colab_type": "code",
    "id": "2VeT6OMgHawW"
   },
   "outputs": [],
   "source": [
    "final_data.to_csv('datasets/merged_big_mart_sales.csv',index=False)"
   ]
  }
 ],
 "metadata": {
  "colab": {
   "name": "1. CSV Files.ipynb",
   "provenance": []
  },
  "kernelspec": {
   "display_name": "Python 3",
   "language": "python",
   "name": "python3"
  },
  "language_info": {
   "codemirror_mode": {
    "name": "ipython",
    "version": 3
   },
   "file_extension": ".py",
   "mimetype": "text/x-python",
   "name": "python",
   "nbconvert_exporter": "python",
   "pygments_lexer": "ipython3",
   "version": "3.7.6"
  }
 },
 "nbformat": 4,
 "nbformat_minor": 1
}
